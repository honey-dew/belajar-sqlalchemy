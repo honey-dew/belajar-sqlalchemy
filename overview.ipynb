{
 "cells": [
  {
   "cell_type": "markdown",
   "id": "897f9369",
   "metadata": {},
   "source": [
    "# Overview dan Installation"
   ]
  },
  {
   "cell_type": "markdown",
   "id": "81038995",
   "metadata": {},
   "source": [
    "SQLAlchemy adalah tools atau alat atau libray untuk bekerja dengan database dengan menggunakan bahasa pemrograman python. SQLAlchemy bisa digunakan untuk berinteraksi dengan barbagai RDBMS seperti PostgreSQL, MySQL, SQLite, dan yang lainnya.Secara garis besar SQLAlchemy terdiri komponen SQLAlchemy Core dan SQLAlchemy ORM sehingga dalam menggunakan SQLAlchemy bisa menggunakan mode SQLAlchemy Core atau SQLAlchemy ORM atau keduanya.\n",
    "\n",
    "SQLAlchemy bisa diinstall menggunakan pip yaitu dengan cara:\n",
    "\n",
    "<b>pip install sqlalchemy</b>"
   ]
  },
  {
   "cell_type": "markdown",
   "id": "4fc16d4b",
   "metadata": {},
   "source": [
    "Selain menginstall SQLAlchemy itu sendiri juga perlu menginstall driver database misalnya <b>psycopg2</b> untuk PostgreSQL, <b>pymysql</b> untuk MySQL, <b>pysqlite</b> untuk SQLite."
   ]
  }
 ],
 "metadata": {
  "kernelspec": {
   "display_name": "Python 3 (ipykernel)",
   "language": "python",
   "name": "python3"
  },
  "language_info": {
   "codemirror_mode": {
    "name": "ipython",
    "version": 3
   },
   "file_extension": ".py",
   "mimetype": "text/x-python",
   "name": "python",
   "nbconvert_exporter": "python",
   "pygments_lexer": "ipython3",
   "version": "3.8.5"
  }
 },
 "nbformat": 4,
 "nbformat_minor": 5
}
