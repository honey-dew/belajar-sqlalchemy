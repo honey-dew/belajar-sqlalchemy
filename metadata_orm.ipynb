{
 "cells": [
  {
   "cell_type": "markdown",
   "id": "128e4999",
   "metadata": {},
   "source": [
    "# Defining Table Metadata with the ORM"
   ]
  },
  {
   "cell_type": "markdown",
   "id": "fd50913d",
   "metadata": {},
   "source": [
    "Ketika menggunakan ORM, proses dimana kita mendeklarasikan metadata Table biasanya dikombinasikan dengan proses pendeklarasian <b>mapped class</b>. Mapped class ini adalah sebuah python class yang akan dibuat yang akan memiliki atribut  yang akan dihubungkan ke kolom-kolom pada sebuah tabel pada database.\n",
    "\n",
    "Saat menggunakan ORM koleksi MetaData tetap ada, namun itu adal di dalam objek ORM yang dikenal sebagai <b>registry</b>"
   ]
  },
  {
   "cell_type": "code",
   "execution_count": 1,
   "id": "6bd29cd0",
   "metadata": {},
   "outputs": [],
   "source": [
    "from sqlalchemy.orm import registry\n",
    "mapper_registry = registry()"
   ]
  },
  {
   "cell_type": "code",
   "execution_count": 2,
   "id": "7e6db457",
   "metadata": {},
   "outputs": [
    {
     "data": {
      "text/plain": [
       "MetaData()"
      ]
     },
     "execution_count": 2,
     "metadata": {},
     "output_type": "execute_result"
    }
   ],
   "source": [
    "mapper_registry.metadata"
   ]
  },
  {
   "cell_type": "markdown",
   "id": "5170e2d2",
   "metadata": {},
   "source": [
    "Kali ini kita akan mendeklarasikan objek Table secara tidak langsung melalui mapped class. Dalam pendekatan plaing umum, setiap mapped class diturunkan dari sebuah base class yaitu <b>declarative base</b>. Kita bisa mendapatkan declarative base dengan menggunakan metode <b>generate_base()</b> dari objek registry:\n",
    "\n",
    "Base = mapper_registry.generate_base()\n",
    "\n",
    "atau dengan cara yang lebih singkat yaitu\n",
    "\n",
    "from sqlalchemy.orm import declarative_base <br>\n",
    "Base = declarative_base()"
   ]
  },
  {
   "cell_type": "code",
   "execution_count": 3,
   "id": "fada26b7",
   "metadata": {},
   "outputs": [],
   "source": [
    "# from sqlalchemy.orm import declarative_base\n",
    "# Base = declarative_base()\n",
    "\n",
    "Base = mapper_registry.generate_base()"
   ]
  },
  {
   "cell_type": "markdown",
   "id": "354d2a5d",
   "metadata": {},
   "source": [
    "Objek Base di atas adalah sebuah python class yang akan berfungsi sebagai base class untuk ORM mapped class yang akan kita deklarasikan. Sekarang kita dapat mendefinisikan ORM mapped class untuk tabel users dan email seperti berikut:"
   ]
  },
  {
   "cell_type": "code",
   "execution_count": 4,
   "id": "a3face33",
   "metadata": {},
   "outputs": [],
   "source": [
    "from sqlalchemy import Column, Integer, String, ForeignKey\n",
    "from sqlalchemy.orm import relationship\n",
    "\n",
    "class Users(Base):\n",
    "    __tablename__ = \"users\"\n",
    "    \n",
    "    id = Column(Integer, primary_key=True)\n",
    "    name = Column(String(30))\n",
    "    fullname = Column(String)\n",
    "    \n",
    "    email_address = relationship(\"Email\", back_populates=\"user\")\n",
    "    \n",
    "    def __repr__(self):\n",
    "        return f'User(id={self.id!r}, name={self.name!r}, fullname={self.fullname!r})'\n",
    "    \n",
    "class Email(Base):\n",
    "    __tablename__ = \"email\"\n",
    "    \n",
    "    id = Column(Integer, primary_key=True)\n",
    "    email_address = Column(String, nullable=False)\n",
    "    user_id = Column(Integer, ForeignKey(\"users.id\"))\n",
    "    \n",
    "    user = relationship(\"Users\", back_populates=\"email_address\")\n",
    "    \n",
    "    def __repr__(self):\n",
    "        return f'Email(id={self.id!r}, email_address={self.email_address!r})'"
   ]
  },
  {
   "cell_type": "markdown",
   "id": "22ea6020",
   "metadata": {},
   "source": [
    "class Users dan Email sekarang adalah mapped class dan tersedia untuk digunakan dalam ORM dan operasi kueri."
   ]
  },
  {
   "cell_type": "code",
   "execution_count": 5,
   "id": "5b7c5748",
   "metadata": {
    "scrolled": true
   },
   "outputs": [
    {
     "data": {
      "text/plain": [
       "Table('users', MetaData(), Column('id', Integer(), table=<users>, primary_key=True, nullable=False), Column('name', String(length=30), table=<users>), Column('fullname', String(), table=<users>), schema=None)"
      ]
     },
     "execution_count": 5,
     "metadata": {},
     "output_type": "execute_result"
    }
   ],
   "source": [
    "Users.__table__"
   ]
  },
  {
   "cell_type": "code",
   "execution_count": 6,
   "id": "07b89419",
   "metadata": {},
   "outputs": [
    {
     "data": {
      "text/plain": [
       "Table('email', MetaData(), Column('id', Integer(), table=<email>, primary_key=True, nullable=False), Column('email_address', String(), table=<email>, nullable=False), Column('user_id', Integer(), ForeignKey('users.id'), table=<email>), schema=None)"
      ]
     },
     "execution_count": 6,
     "metadata": {},
     "output_type": "execute_result"
    }
   ],
   "source": [
    "Email.__table__"
   ]
  },
  {
   "cell_type": "code",
   "execution_count": 7,
   "id": "56f4746e",
   "metadata": {},
   "outputs": [
    {
     "data": {
      "text/plain": [
       "'users'"
      ]
     },
     "execution_count": 7,
     "metadata": {},
     "output_type": "execute_result"
    }
   ],
   "source": [
    "Users.__tablename__"
   ]
  },
  {
   "cell_type": "code",
   "execution_count": 8,
   "id": "44f5a921",
   "metadata": {},
   "outputs": [
    {
     "data": {
      "text/plain": [
       "__main__.Users"
      ]
     },
     "execution_count": 8,
     "metadata": {},
     "output_type": "execute_result"
    }
   ],
   "source": [
    "Users"
   ]
  },
  {
   "cell_type": "code",
   "execution_count": 9,
   "id": "6e8b2576",
   "metadata": {},
   "outputs": [],
   "source": [
    "muhlisadiwiguna = Users(name=\"Muhlis\", fullname=\"Muhlis Adiwiguna\")"
   ]
  },
  {
   "cell_type": "code",
   "execution_count": 10,
   "id": "6272e59e",
   "metadata": {},
   "outputs": [
    {
     "data": {
      "text/plain": [
       "User(id=None, name='Muhlis', fullname='Muhlis Adiwiguna')"
      ]
     },
     "execution_count": 10,
     "metadata": {},
     "output_type": "execute_result"
    }
   ],
   "source": [
    "muhlisadiwiguna"
   ]
  },
  {
   "cell_type": "markdown",
   "id": "dac9e164",
   "metadata": {},
   "source": [
    "## Emmiting DDL to the Database"
   ]
  },
  {
   "cell_type": "markdown",
   "id": "1f063922",
   "metadata": {},
   "source": [
    "Emmiting menggunakan mode ORM tidak jauh berbeda dengan menggunakan mode core yaitu sebagai berikut:\n",
    "\n",
    "mapper_registry.metadata.create_all(engine)\n",
    "\n",
    "atau\n",
    "\n",
    "Base.metadata.create_all(engine)"
   ]
  },
  {
   "cell_type": "code",
   "execution_count": 11,
   "id": "10ef864c",
   "metadata": {},
   "outputs": [],
   "source": [
    "from sqlalchemy import create_engine\n",
    "engine = create_engine(\"sqlite+pysqlite:///example2.db\", future=True)"
   ]
  },
  {
   "cell_type": "code",
   "execution_count": 12,
   "id": "f5f4e00a",
   "metadata": {},
   "outputs": [],
   "source": [
    "# cara 1\n",
    "# mapper_registry.metadata.create_all(engine)\n",
    "\n",
    "# cara 2\n",
    "Base.metadata.create_all(engine)"
   ]
  }
 ],
 "metadata": {
  "kernelspec": {
   "display_name": "Python 3 (ipykernel)",
   "language": "python",
   "name": "python3"
  },
  "language_info": {
   "codemirror_mode": {
    "name": "ipython",
    "version": 3
   },
   "file_extension": ".py",
   "mimetype": "text/x-python",
   "name": "python",
   "nbconvert_exporter": "python",
   "pygments_lexer": "ipython3",
   "version": "3.8.5"
  }
 },
 "nbformat": 4,
 "nbformat_minor": 5
}
