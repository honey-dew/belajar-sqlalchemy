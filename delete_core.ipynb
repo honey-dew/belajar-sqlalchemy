{
 "cells": [
  {
   "cell_type": "markdown",
   "id": "de2ff6d9",
   "metadata": {},
   "source": [
    "# Deleting Rows with Core"
   ]
  },
  {
   "cell_type": "markdown",
   "id": "309329aa",
   "metadata": {},
   "source": [
    "Fungsi <b>delet()</b> akan menghasilkan sebuah instance baru dari Delete yang merepresentasikan DELETE statement pada SQL yang akan menghapus baris pada tabel."
   ]
  },
  {
   "cell_type": "code",
   "execution_count": 2,
   "id": "7ad2e027",
   "metadata": {},
   "outputs": [],
   "source": [
    "from sqlalchemy import create_engine, MetaData"
   ]
  },
  {
   "cell_type": "code",
   "execution_count": 3,
   "id": "34c96966",
   "metadata": {},
   "outputs": [],
   "source": [
    "engine = create_engine(\"sqlite+pysqlite:///example.db\", future=True)\n",
    "metadata = MetaData(bind=engine)\n",
    "metadata.reflect()\n",
    "\n",
    "users_table = metadata.tables[\"users\"]\n",
    "email_table = metadata.tables[\"email\"]"
   ]
  },
  {
   "cell_type": "markdown",
   "id": "4f130178",
   "metadata": {},
   "source": [
    "Sebelum menghapus baris pada tabel users, terlebih dahulu akan dilakukan insert data dan kemudian data tersebut akan dihapus."
   ]
  },
  {
   "cell_type": "code",
   "execution_count": 4,
   "id": "6db59963",
   "metadata": {},
   "outputs": [],
   "source": [
    "from sqlalchemy import insert\n",
    "\n",
    "ins_stmt = insert(users_table).values(name=\"krabs\", fullname=\"krabs eugene\")\n",
    "\n",
    "with engine.connect() as conn:\n",
    "    conn.execute(ins_stmt)\n",
    "    conn.commit()"
   ]
  },
  {
   "cell_type": "code",
   "execution_count": 5,
   "id": "2b38bf7e",
   "metadata": {},
   "outputs": [
    {
     "name": "stdout",
     "output_type": "stream",
     "text": [
      "(1, 'spongebob', 'spongebob squarepants')\n",
      "(2, 'sandy', 'sandy cheeks')\n",
      "(3, 'patrick', 'patrick the star')\n",
      "(4, 'krabs', 'krabs eugene')\n"
     ]
    }
   ],
   "source": [
    "from sqlalchemy import select\n",
    "\n",
    "with engine.connect() as conn:\n",
    "    result = conn.execute(select(users_table))\n",
    "    \n",
    "    for row in result.all():\n",
    "        print(row)"
   ]
  },
  {
   "cell_type": "markdown",
   "id": "bd75aac3",
   "metadata": {},
   "source": [
    "Sekarang terdapat empat data atau empat baris pada tabel users. Selanjutnya data krabs akan dihapus."
   ]
  },
  {
   "cell_type": "code",
   "execution_count": 6,
   "id": "d06bb8b4",
   "metadata": {},
   "outputs": [
    {
     "name": "stdout",
     "output_type": "stream",
     "text": [
      "DELETE FROM users WHERE users.name = ?\n"
     ]
    }
   ],
   "source": [
    "from sqlalchemy import delete\n",
    "\n",
    "del_stmt = delete(users_table).where(users_table.c.name == \"krabs\")\n",
    "print(del_stmt)"
   ]
  },
  {
   "cell_type": "code",
   "execution_count": 9,
   "id": "92efa7a3",
   "metadata": {},
   "outputs": [],
   "source": [
    "with engine.connect() as conn:\n",
    "    conn.execute(del_stmt)\n",
    "    conn.commit()"
   ]
  },
  {
   "cell_type": "code",
   "execution_count": 10,
   "id": "03670055",
   "metadata": {},
   "outputs": [
    {
     "name": "stdout",
     "output_type": "stream",
     "text": [
      "(1, 'spongebob', 'spongebob squarepants')\n",
      "(2, 'sandy', 'sandy cheeks')\n",
      "(3, 'patrick', 'patrick the star')\n"
     ]
    }
   ],
   "source": [
    "with engine.connect() as conn:\n",
    "    result = conn.execute(select(users_table))\n",
    "    \n",
    "    for row in result.all():\n",
    "        print(row)"
   ]
  },
  {
   "cell_type": "markdown",
   "id": "7bb60443",
   "metadata": {},
   "source": [
    "Sekarang data atau baris dengan name krabs sudah tidak ada pada tabel users."
   ]
  }
 ],
 "metadata": {
  "kernelspec": {
   "display_name": "Python 3 (ipykernel)",
   "language": "python",
   "name": "python3"
  },
  "language_info": {
   "codemirror_mode": {
    "name": "ipython",
    "version": 3
   },
   "file_extension": ".py",
   "mimetype": "text/x-python",
   "name": "python",
   "nbconvert_exporter": "python",
   "pygments_lexer": "ipython3",
   "version": "3.8.5"
  }
 },
 "nbformat": 4,
 "nbformat_minor": 5
}
