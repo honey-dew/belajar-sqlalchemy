{
 "cells": [
  {
   "cell_type": "markdown",
   "id": "a1b708d3",
   "metadata": {},
   "source": [
    "# Inserting Rows with Core"
   ]
  },
  {
   "cell_type": "markdown",
   "id": "b6d8d7af",
   "metadata": {},
   "source": [
    "Ketika menggunakan Core, SQL INSERT statement dihasilkan menggunakan fungsi <b>insert()</b>. Fungsi ini menghasilkan sebuah instance baru dari Insert yang merepresentasikan sebuah INSERT statement pada SQL yang menambahkan data baru ke dalam tabel."
   ]
  },
  {
   "cell_type": "code",
   "execution_count": 1,
   "id": "1e8f1fda",
   "metadata": {},
   "outputs": [],
   "source": [
    "from sqlalchemy import create_engine, MetaData\n",
    "\n",
    "engine = create_engine(\"sqlite+pysqlite:///example.db\", future=True)\n",
    "metadata = MetaData(bind=engine)\n",
    "metadata.reflect()\n",
    "\n",
    "users_table = metadata.tables[\"users\"]\n",
    "email_table = metadata.tables[\"email\"]"
   ]
  },
  {
   "cell_type": "code",
   "execution_count": 2,
   "id": "f2590500",
   "metadata": {},
   "outputs": [],
   "source": [
    "from sqlalchemy import insert\n",
    "ins_stmt = insert(users_table).values(name=\"spongebob\", fullname=\"spongebob squarepants\")"
   ]
  },
  {
   "cell_type": "code",
   "execution_count": 3,
   "id": "dd3bb082",
   "metadata": {},
   "outputs": [
    {
     "name": "stdout",
     "output_type": "stream",
     "text": [
      "INSERT INTO users (name, fullname) VALUES (?, ?)\n"
     ]
    }
   ],
   "source": [
    "print(ins_stmt)"
   ]
  },
  {
   "cell_type": "code",
   "execution_count": 5,
   "id": "01f4c582",
   "metadata": {},
   "outputs": [
    {
     "data": {
      "text/plain": [
       "{'name': 'spongebob', 'fullname': 'spongebob squarepants'}"
      ]
     },
     "execution_count": 5,
     "metadata": {},
     "output_type": "execute_result"
    }
   ],
   "source": [
    "ins_stmt.compile().params"
   ]
  },
  {
   "cell_type": "markdown",
   "id": "bc25f05b",
   "metadata": {},
   "source": [
    "## Executing the Statement"
   ]
  },
  {
   "cell_type": "code",
   "execution_count": 6,
   "id": "2b4b8a57",
   "metadata": {},
   "outputs": [],
   "source": [
    "with engine.connect() as conn:\n",
    "    result = conn.execute(ins_stmt)\n",
    "    conn.commit()"
   ]
  },
  {
   "cell_type": "code",
   "execution_count": 8,
   "id": "a4108257",
   "metadata": {},
   "outputs": [
    {
     "data": {
      "text/plain": [
       "(1,)"
      ]
     },
     "execution_count": 8,
     "metadata": {},
     "output_type": "execute_result"
    }
   ],
   "source": [
    "result.inserted_primary_key"
   ]
  },
  {
   "cell_type": "markdown",
   "id": "c522cc22",
   "metadata": {},
   "source": [
    "## INSERT usually generates the “values” clause automatically"
   ]
  },
  {
   "cell_type": "code",
   "execution_count": 9,
   "id": "58694295",
   "metadata": {},
   "outputs": [],
   "source": [
    "with engine.connect() as conn:\n",
    "    result = conn.execute(\n",
    "        insert(users_table),\n",
    "        [\n",
    "            {\"name\": \"sandy\", \"fullname\": \"sandy cheeks\"},\n",
    "            {\"name\": \"patrick\", \"fullname\": \"patrick star\"}\n",
    "        ]\n",
    "    )\n",
    "    \n",
    "    conn.commit()"
   ]
  },
  {
   "cell_type": "markdown",
   "id": "0664e717",
   "metadata": {},
   "source": [
    "## INSERT…FROM SELECT"
   ]
  },
  {
   "cell_type": "code",
   "execution_count": 2,
   "id": "1c2d69f7",
   "metadata": {},
   "outputs": [],
   "source": [
    "from sqlalchemy import select\n",
    "sel_stmt = select(users_table.c.id, users_table.c.name + \"@aol.com\")"
   ]
  },
  {
   "cell_type": "code",
   "execution_count": 3,
   "id": "69833fd9",
   "metadata": {},
   "outputs": [
    {
     "name": "stdout",
     "output_type": "stream",
     "text": [
      "SELECT users.id, users.name || ? AS anon_1 \n",
      "FROM users\n"
     ]
    }
   ],
   "source": [
    "print(sel_stmt)"
   ]
  },
  {
   "cell_type": "code",
   "execution_count": 5,
   "id": "3234557b",
   "metadata": {},
   "outputs": [],
   "source": [
    "from sqlalchemy import insert\n",
    "ins_stmt = insert(email_table).from_select(\n",
    "    [\"user_id\", \"email_address\"], sel_stmt\n",
    ")"
   ]
  },
  {
   "cell_type": "code",
   "execution_count": 6,
   "id": "68d6d7ab",
   "metadata": {},
   "outputs": [
    {
     "name": "stdout",
     "output_type": "stream",
     "text": [
      "INSERT INTO email (user_id, email_address) SELECT users.id, users.name || ? AS anon_1 \n",
      "FROM users\n"
     ]
    }
   ],
   "source": [
    "print(ins_stmt)"
   ]
  },
  {
   "cell_type": "code",
   "execution_count": 11,
   "id": "2d0cb7ca",
   "metadata": {},
   "outputs": [],
   "source": [
    "with engine.connect() as conn:\n",
    "    result = conn.execute(ins_stmt)\n",
    "    \n",
    "    conn.commit()"
   ]
  },
  {
   "cell_type": "code",
   "execution_count": null,
   "id": "157414c8",
   "metadata": {},
   "outputs": [],
   "source": []
  }
 ],
 "metadata": {
  "kernelspec": {
   "display_name": "Python 3 (ipykernel)",
   "language": "python",
   "name": "python3"
  },
  "language_info": {
   "codemirror_mode": {
    "name": "ipython",
    "version": 3
   },
   "file_extension": ".py",
   "mimetype": "text/x-python",
   "name": "python",
   "nbconvert_exporter": "python",
   "pygments_lexer": "ipython3",
   "version": "3.8.5"
  }
 },
 "nbformat": 4,
 "nbformat_minor": 5
}
