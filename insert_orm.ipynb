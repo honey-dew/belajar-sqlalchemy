{
 "cells": [
  {
   "cell_type": "markdown",
   "id": "7c5e1232",
   "metadata": {},
   "source": [
    "# Inserting Rows with Core"
   ]
  },
  {
   "cell_type": "code",
   "execution_count": 1,
   "id": "b2f8ad71",
   "metadata": {},
   "outputs": [],
   "source": [
    "from sqlalchemy import create_engine, MetaData, Table\n",
    "from sqlalchemy.orm import declarative_base\n",
    "\n",
    "engine = create_engine(\"sqlite+pysqlite:///example2.db\", future=True)\n",
    "Base = declarative_base(bind=engine)"
   ]
  },
  {
   "cell_type": "code",
   "execution_count": 2,
   "id": "b5cc60f5",
   "metadata": {},
   "outputs": [],
   "source": [
    "class Users(Base):\n",
    "    __table__ = Table(\"users\", Base.metadata, autoload=engine)\n",
    "    __tablename__ = \"users\"\n",
    "    \n",
    "    def __repr__(self):\n",
    "        return f'User(id={self.id!r}, name={self.name!r}, fullname={self.fullname!r})'\n",
    "    \n",
    "class Email(Base):\n",
    "    __table__ = Table(\"email\", Base.metadata, autoload=engine)\n",
    "    __tablename__ = \"email\"\n",
    "    \n",
    "    def __repr__(self):\n",
    "        return f'Email(id={self.id!r}, email_address={self.email_address!r})'"
   ]
  },
  {
   "cell_type": "code",
   "execution_count": 3,
   "id": "3b72d6f9",
   "metadata": {},
   "outputs": [],
   "source": [
    "from sqlalchemy import insert\n",
    "from sqlalchemy.orm import Session\n",
    "\n",
    "spongebob = Users(name=\"spongebob\", fullname=\"spongebob squarepants\")\n",
    "sandy = Users(name=\"sandy\", fullname=\"sandy cheeks\")\n",
    "patrick = Users(name=\"patrick\", fullname=\"patrick star\")"
   ]
  },
  {
   "cell_type": "markdown",
   "id": "bc8a2eba",
   "metadata": {},
   "source": [
    "## Adding object to a Session"
   ]
  },
  {
   "cell_type": "code",
   "execution_count": 4,
   "id": "7f76d4a5",
   "metadata": {},
   "outputs": [],
   "source": [
    "session = Session(engine)\n",
    "\n",
    "session.add(spongebob)\n",
    "session.add(sandy)\n",
    "session.add(patrick)"
   ]
  },
  {
   "cell_type": "markdown",
   "id": "f200b1f1",
   "metadata": {},
   "source": [
    "## Flushing"
   ]
  },
  {
   "cell_type": "code",
   "execution_count": 5,
   "id": "51d47785",
   "metadata": {},
   "outputs": [],
   "source": [
    "session.flush()"
   ]
  },
  {
   "cell_type": "markdown",
   "id": "83092142",
   "metadata": {},
   "source": [
    "## Committing"
   ]
  },
  {
   "cell_type": "code",
   "execution_count": 6,
   "id": "d85564ec",
   "metadata": {},
   "outputs": [],
   "source": [
    "session.commit()"
   ]
  }
 ],
 "metadata": {
  "kernelspec": {
   "display_name": "Python 3 (ipykernel)",
   "language": "python",
   "name": "python3"
  },
  "language_info": {
   "codemirror_mode": {
    "name": "ipython",
    "version": 3
   },
   "file_extension": ".py",
   "mimetype": "text/x-python",
   "name": "python",
   "nbconvert_exporter": "python",
   "pygments_lexer": "ipython3",
   "version": "3.8.5"
  }
 },
 "nbformat": 4,
 "nbformat_minor": 5
}
