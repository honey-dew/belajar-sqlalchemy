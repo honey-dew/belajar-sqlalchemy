{
 "cells": [
  {
   "cell_type": "markdown",
   "id": "b1fcfb10",
   "metadata": {},
   "source": [
    "# Establishing Connectivity - The Engine"
   ]
  },
  {
   "cell_type": "markdown",
   "id": "5f79c7b2",
   "metadata": {},
   "source": [
    "Di dalam SQLAlchemy terdapat sebuah object yang disebut Engine yang bertindak sebagai sebuah sumber koneksi ke database tertentu. Engine ini dikonfigurasikan menggunakan URL string. Berikut ini contoh bagaimana membuat engine untuk membuat koneksi ke suatu database:\n",
    "\n",
    "Koneksi ke PostgreSQL\n",
    "\n",
    "engine = create_engine(\"postgresql+psycopg2://postgres@localhost:5432/example\", future=True)\n",
    "\n",
    "Koneksi ke SQLite\n",
    "\n",
    "engine = create_engine(\"sqlite+pysqlite:///example.db\", future=True)\n",
    "\n",
    "Contoh di atas adalah cara bagaimana membuat koneksi yaitu yang pertama koneksi ke database PostgreSQL dan yang ke dua membuat koneksi ke database SQLite.\n",
    "\n",
    "Engine dibuat dengan menggunakan <b>create_engine()</b>dengan memasukan URL string sebagai parameternya.\n",
    "\n",
    "URL string untuk PostgreSQL yaitu terdiri:\n",
    "- postgresql yaitu database yang akan dikoneksikan\n",
    "- psycopg2 yaitu driver atau DBAPI untuk database PostgreSQL\n",
    "- postgres yaitu nama user pada database\n",
    "- localhost yaitu lokasi database\n",
    "- 5432 yaitu port yang digunakan oleh database\n",
    "- example adalah nama database\n",
    "\n",
    "setelah user juga bisa ditambahakan password apabila user database menggunakan password\n",
    "\n",
    "URL string untuk SQLite yaitu terdiri dari:\n",
    "- sqlite yaitu database yang akan dikoneksikan\n",
    "- pysqlite yaitu driver atau DBAPI untuk SQLite\n",
    "- example.db yaitu nama database\n",
    "\n",
    "Selanjutnya database yang akan digunakan adalah SQLite"
   ]
  },
  {
   "cell_type": "code",
   "execution_count": 1,
   "id": "68918354",
   "metadata": {},
   "outputs": [],
   "source": [
    "from sqlalchemy import create_engine\n",
    "engine = create_engine(\"sqlite+pysqlite:///examplee.db\", future=True)"
   ]
  },
  {
   "cell_type": "markdown",
   "id": "de1dbbac",
   "metadata": {},
   "source": [
    "## How to create database using SQLite3 in Python"
   ]
  },
  {
   "cell_type": "markdown",
   "id": "462bcd12",
   "metadata": {},
   "source": [
    "- Buka terminal\n",
    "- Jalankan program python\n",
    "- import sqlite3\n",
    "- Membuat koneksi ke database dan menutupnya apabila sudah selesai:\n",
    "    - con = sqlite3.connect(\"example.db\")\n",
    "    - con.close()"
   ]
  }
 ],
 "metadata": {
  "kernelspec": {
   "display_name": "Python 3 (ipykernel)",
   "language": "python",
   "name": "python3"
  },
  "language_info": {
   "codemirror_mode": {
    "name": "ipython",
    "version": 3
   },
   "file_extension": ".py",
   "mimetype": "text/x-python",
   "name": "python",
   "nbconvert_exporter": "python",
   "pygments_lexer": "ipython3",
   "version": "3.8.5"
  }
 },
 "nbformat": 4,
 "nbformat_minor": 5
}
