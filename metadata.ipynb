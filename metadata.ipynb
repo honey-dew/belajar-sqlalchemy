{
 "cells": [
  {
   "cell_type": "markdown",
   "id": "7768f9d2",
   "metadata": {},
   "source": [
    "# Working with Database Metadata"
   ]
  },
  {
   "cell_type": "markdown",
   "id": "35a15e2d",
   "metadata": {},
   "source": [
    "Istilah metadata secara umum merujuk kepada data yang mendeskripsikan atau menggambarkan suatu data. Pada SQLAlchemy istilah metadata merujuk pada sebuah koleksi informasi mengenai tabel, kolom, konstrain, dan objek DDL lainnya yang mungkin ada pada suatu database.\n",
    "\n",
    "Objek yang paling umum untuk metadata database pada SQLAlchemy yaitu MetaData, Table, dan Column. Ketika kita bekerja dengan sebuah database relasional, struktur dasar yang kita buat dan kuerinya dikenal sebagai tabel. Pada SQLAlchemy table direpresentasikan oleh sebuah objek python bernama Table.\n",
    "\n",
    "objek Table merepresentasikan tabel yang ada pada database. Setiap Table bisa dideklaraikan dari awal secara eksplisit atau direfleksikan dari tabel yang sudah ada pada suatu database.\n",
    "\n",
    "Sebuah koleksi dimana table itu ditempatkan dikenal dengan objek MetaData. Untuk membuat objek MetaData adalah sebagai berikut:\n",
    "\n",
    "<b>from sqlalchemy import MetaData</b><br>\n",
    "<b>metadata = MetaData()</b>\n",
    "\n",
    "Pada contoh diatas dan contoh-contoh dibawah berikutnya akan menggunakan core-style pada SQLAlchmey, karena SQLAlchmey mempunyai dua mode yaitu core dan ORM.\n",
    "\n",
    "Pada saat kita sudah memiliki metadata, kita dapat mendeklarasikan objek Table. Mempunyai satu objek MetaData dalam seluruh aplikasi adalah kasus yang paling umum, meskipun bisa juga memiliki beberapa MetaData. Berikut ini contoh untuk membuat sebuah tabel users:"
   ]
  },
  {
   "cell_type": "code",
   "execution_count": 1,
   "id": "98fc5f43",
   "metadata": {},
   "outputs": [],
   "source": [
    "from sqlalchemy import (create_engine, \n",
    "                        MetaData, Table, Column, Integer, String)\n",
    "\n",
    "engine = create_engine(\"sqlite+pysqlite:///example.db\", future=True)\n",
    "metadata = MetaData()\n",
    "\n",
    "users_table = Table(\"users\", \n",
    "                    metadata, \n",
    "                    Column(\"id\", Integer, primary_key=True), \n",
    "                    Column(\"name\", String(30)), \n",
    "                    Column(\"fullname\", String))"
   ]
  },
  {
   "cell_type": "markdown",
   "id": "8873adac",
   "metadata": {},
   "source": [
    "Operasi di atas sama seperti pembuatan tabel di dalam SQL menggunakan CREATE TABLE:\n",
    "\n",
    "- Table merepresentasikan sebuah tabel pada database yang di assign ke sebuah koleksi MetaData.\n",
    "\n",
    "- Column merepresentasikan sebuah kolom pada sebuah tabel dan di assign ke sebuah objek Table.\n",
    "\n",
    "- Integer dan String merepresentasikan tipe data dari suatu kolom."
   ]
  },
  {
   "cell_type": "markdown",
   "id": "6ebb9b81",
   "metadata": {},
   "source": [
    "## Table Property"
   ]
  },
  {
   "cell_type": "code",
   "execution_count": 2,
   "id": "cfd8dcb2",
   "metadata": {},
   "outputs": [
    {
     "data": {
      "text/plain": [
       "Column('name', String(length=30), table=<users>)"
      ]
     },
     "execution_count": 2,
     "metadata": {},
     "output_type": "execute_result"
    }
   ],
   "source": [
    "users_table.c.name"
   ]
  },
  {
   "cell_type": "code",
   "execution_count": 3,
   "id": "6d8976a6",
   "metadata": {},
   "outputs": [
    {
     "data": {
      "text/plain": [
       "['id', 'name', 'fullname']"
      ]
     },
     "execution_count": 3,
     "metadata": {},
     "output_type": "execute_result"
    }
   ],
   "source": [
    "users_table.c.keys()"
   ]
  },
  {
   "cell_type": "code",
   "execution_count": 4,
   "id": "f0c3198a",
   "metadata": {},
   "outputs": [
    {
     "data": {
      "text/plain": [
       "['id', 'name', 'fullname']"
      ]
     },
     "execution_count": 4,
     "metadata": {},
     "output_type": "execute_result"
    }
   ],
   "source": [
    "users_table.columns.keys()"
   ]
  },
  {
   "cell_type": "code",
   "execution_count": 5,
   "id": "49d93933",
   "metadata": {},
   "outputs": [
    {
     "data": {
      "text/plain": [
       "Column('id', Integer(), table=<users>, primary_key=True, nullable=False)"
      ]
     },
     "execution_count": 5,
     "metadata": {},
     "output_type": "execute_result"
    }
   ],
   "source": [
    "users_table.columns.id"
   ]
  },
  {
   "cell_type": "code",
   "execution_count": 6,
   "id": "d3d31fa4",
   "metadata": {},
   "outputs": [
    {
     "data": {
      "text/plain": [
       "Column('name', String(length=30), table=<users>)"
      ]
     },
     "execution_count": 6,
     "metadata": {},
     "output_type": "execute_result"
    }
   ],
   "source": [
    "users_table.columns.name"
   ]
  },
  {
   "cell_type": "code",
   "execution_count": 7,
   "id": "f61d8202",
   "metadata": {},
   "outputs": [
    {
     "data": {
      "text/plain": [
       "Column('fullname', String(), table=<users>)"
      ]
     },
     "execution_count": 7,
     "metadata": {},
     "output_type": "execute_result"
    }
   ],
   "source": [
    "users_table.columns.fullname"
   ]
  },
  {
   "cell_type": "code",
   "execution_count": 8,
   "id": "b48744c5",
   "metadata": {
    "scrolled": true
   },
   "outputs": [
    {
     "data": {
      "text/plain": [
       "[('id',\n",
       "  Column('id', Integer(), table=<users>, primary_key=True, nullable=False)),\n",
       " ('name', Column('name', String(length=30), table=<users>)),\n",
       " ('fullname', Column('fullname', String(), table=<users>))]"
      ]
     },
     "execution_count": 8,
     "metadata": {},
     "output_type": "execute_result"
    }
   ],
   "source": [
    "users_table.c.items()"
   ]
  },
  {
   "cell_type": "code",
   "execution_count": 9,
   "id": "cba4fd7e",
   "metadata": {},
   "outputs": [
    {
     "data": {
      "text/plain": [
       "'users'"
      ]
     },
     "execution_count": 9,
     "metadata": {},
     "output_type": "execute_result"
    }
   ],
   "source": [
    "users_table.name"
   ]
  },
  {
   "cell_type": "code",
   "execution_count": 10,
   "id": "70b76f10",
   "metadata": {},
   "outputs": [
    {
     "data": {
      "text/plain": [
       "PrimaryKeyConstraint(Column('id', Integer(), table=<users>, primary_key=True, nullable=False))"
      ]
     },
     "execution_count": 10,
     "metadata": {},
     "output_type": "execute_result"
    }
   ],
   "source": [
    "users_table.primary_key"
   ]
  },
  {
   "cell_type": "markdown",
   "id": "8551a5d5",
   "metadata": {},
   "source": [
    "## Foreign Key"
   ]
  },
  {
   "cell_type": "markdown",
   "id": "9cf9bd82",
   "metadata": {},
   "source": [
    "Foreign key dapat dideklarasikan dengan objek ForeignKey. Berikut ini contoh pembuatan tabel dengan menggunakan foreign key:"
   ]
  },
  {
   "cell_type": "code",
   "execution_count": 11,
   "id": "9524adc7",
   "metadata": {},
   "outputs": [],
   "source": [
    "from sqlalchemy import ForeignKey\n",
    "\n",
    "email_table = Table(\"email\", \n",
    "                    metadata, \n",
    "                    Column(\"id\", Integer, primary_key=True), \n",
    "                    Column(\"user_id\", ForeignKey(\"users.id\"), nullable=False), \n",
    "                    Column(\"email_address\", String, nullable=False))"
   ]
  },
  {
   "cell_type": "code",
   "execution_count": 12,
   "id": "ff0ea2e7",
   "metadata": {},
   "outputs": [
    {
     "data": {
      "text/plain": [
       "FacadeDict({'users': Table('users', MetaData(), Column('id', Integer(), table=<users>, primary_key=True, nullable=False), Column('name', String(length=30), table=<users>), Column('fullname', String(), table=<users>), schema=None), 'email': Table('email', MetaData(), Column('id', Integer(), table=<email>, primary_key=True, nullable=False), Column('user_id', Integer(), ForeignKey('users.id'), table=<email>, nullable=False), Column('email_address', String(), table=<email>, nullable=False), schema=None)})"
      ]
     },
     "execution_count": 12,
     "metadata": {},
     "output_type": "execute_result"
    }
   ],
   "source": [
    "metadata.tables"
   ]
  },
  {
   "cell_type": "markdown",
   "id": "5295019e",
   "metadata": {},
   "source": [
    "## Emmiting DDL to the Database"
   ]
  },
  {
   "cell_type": "markdown",
   "id": "487d7afa",
   "metadata": {},
   "source": [
    "Sampai saat ini kita sudah membuat objek MetaData, membuat dua tabel yang terdiri dari beberapa kolom dan konstrain. Struktur objek ini akan menjadi pusat operasi-operasi yang akan dilakukan selanjunya.\n",
    "\n",
    "Hal pertama yang akan dilakukan pada struktur yang telah dibuat ini yaitu mengemit atau membuat struktur tersebut menjadi persistence pada SQLite database yaitu dengan menggunakan metode <b>create_all()</b> pada metadata yang telah dibuat dengan memasukan <b>engine</b> sebagai parameternya."
   ]
  },
  {
   "cell_type": "code",
   "execution_count": 13,
   "id": "cd2d351d",
   "metadata": {},
   "outputs": [],
   "source": [
    "metadata.create_all(engine)"
   ]
  },
  {
   "cell_type": "markdown",
   "id": "1920d4aa",
   "metadata": {},
   "source": [
    "Kebalikan dari create_all() adalah drop_all() yaitu untuk menghapus tabel."
   ]
  },
  {
   "cell_type": "markdown",
   "id": "3d93d31c",
   "metadata": {},
   "source": [
    "## How to list tables using SQLite3 in Python"
   ]
  },
  {
   "cell_type": "markdown",
   "id": "7ca1f31a",
   "metadata": {},
   "source": [
    "- Buka terminal\n",
    "- Jalankan program python\n",
    "- import sqlite3\n",
    "- Membuat koneksi ke database:\n",
    "    - con = sqlite3.connect(\"example.db\")\n",
    "    - cursor = con.cursor()\n",
    "    - cursor.execute(\"SELECT name FROM sqlite_master WHERE type='table;\")\n",
    "    - print(cursor.fetchall())\n",
    "- Apabila sudah selesai:\n",
    "     - cursor.close()\n",
    "     - con.close()"
   ]
  },
  {
   "cell_type": "code",
   "execution_count": null,
   "id": "b2f1c702",
   "metadata": {},
   "outputs": [],
   "source": []
  }
 ],
 "metadata": {
  "kernelspec": {
   "display_name": "Python 3 (ipykernel)",
   "language": "python",
   "name": "python3"
  },
  "language_info": {
   "codemirror_mode": {
    "name": "ipython",
    "version": 3
   },
   "file_extension": ".py",
   "mimetype": "text/x-python",
   "name": "python",
   "nbconvert_exporter": "python",
   "pygments_lexer": "ipython3",
   "version": "3.8.5"
  }
 },
 "nbformat": 4,
 "nbformat_minor": 5
}
