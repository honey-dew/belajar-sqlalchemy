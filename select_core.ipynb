{
 "cells": [
  {
   "cell_type": "markdown",
   "id": "39588238",
   "metadata": {},
   "source": [
    "# Selecting Rows with Core"
   ]
  },
  {
   "cell_type": "markdown",
   "id": "a7e2f79c",
   "metadata": {},
   "source": [
    "Penggunaan fungsi <b>select()</b> sama seperti penggunaan fungsi insert()."
   ]
  },
  {
   "cell_type": "code",
   "execution_count": 1,
   "id": "1d1f4a58",
   "metadata": {},
   "outputs": [],
   "source": [
    "from sqlalchemy import create_engine, MetaData\n",
    "\n",
    "engine = create_engine(\"sqlite+pysqlite:///example.db\", future=True)\n",
    "metadata = MetaData(bind=engine)\n",
    "metadata.reflect()\n",
    "\n",
    "users_table = metadata.tables[\"users\"]\n",
    "email_table = metadata.tables[\"email\"]"
   ]
  },
  {
   "cell_type": "code",
   "execution_count": 2,
   "id": "a45cdc9f",
   "metadata": {},
   "outputs": [
    {
     "name": "stdout",
     "output_type": "stream",
     "text": [
      "SELECT users.id, users.name, users.fullname \n",
      "FROM users\n"
     ]
    }
   ],
   "source": [
    "from sqlalchemy import select\n",
    "sel_stmt = select(users_table)\n",
    "print(sel_stmt)"
   ]
  },
  {
   "cell_type": "code",
   "execution_count": 3,
   "id": "27406d32",
   "metadata": {},
   "outputs": [
    {
     "name": "stdout",
     "output_type": "stream",
     "text": [
      "SELECT users.id, users.name, users.fullname \n",
      "FROM users \n",
      "WHERE users.name = ?\n"
     ]
    }
   ],
   "source": [
    "sel_stmt = select(users_table).where(users_table.c.name ==\"spongebob\")\n",
    "print(sel_stmt)"
   ]
  },
  {
   "cell_type": "code",
   "execution_count": 4,
   "id": "a71ac0b3",
   "metadata": {},
   "outputs": [
    {
     "name": "stdout",
     "output_type": "stream",
     "text": [
      "(1, 'spongebob', 'spongebob squarepants')\n"
     ]
    }
   ],
   "source": [
    "with engine.connect() as conn:\n",
    "    for row in conn.execute(sel_stmt):\n",
    "        print(row)"
   ]
  },
  {
   "cell_type": "code",
   "execution_count": 5,
   "id": "e7ca3da6",
   "metadata": {},
   "outputs": [
    {
     "name": "stdout",
     "output_type": "stream",
     "text": [
      "(1, 'spongebob', 'spongebob squarepants')\n",
      "(2, 'sandy', 'sandy cheeks')\n",
      "(3, 'patrick', 'patrick star')\n"
     ]
    }
   ],
   "source": [
    "with engine.connect() as conn:\n",
    "    for row in conn.execute(select(users_table)):\n",
    "        print(row)"
   ]
  },
  {
   "cell_type": "markdown",
   "id": "63cdc695",
   "metadata": {},
   "source": [
    "## SELECT Individual Columns"
   ]
  },
  {
   "cell_type": "code",
   "execution_count": 6,
   "id": "04aba4dd",
   "metadata": {},
   "outputs": [
    {
     "name": "stdout",
     "output_type": "stream",
     "text": [
      "SELECT users.name \n",
      "FROM users\n"
     ]
    }
   ],
   "source": [
    "sel_stmt = select(users_table.c.name)\n",
    "print(sel_stmt)"
   ]
  },
  {
   "cell_type": "code",
   "execution_count": 12,
   "id": "bd3f5dee",
   "metadata": {},
   "outputs": [
    {
     "name": "stdout",
     "output_type": "stream",
     "text": [
      "[('spongebob',), ('sandy',), ('patrick',)]\n"
     ]
    }
   ],
   "source": [
    "with engine.connect() as conn:\n",
    "    result = conn.execute(sel_stmt)\n",
    "    print(result.fetchall())"
   ]
  },
  {
   "cell_type": "code",
   "execution_count": 14,
   "id": "590223da",
   "metadata": {},
   "outputs": [
    {
     "name": "stdout",
     "output_type": "stream",
     "text": [
      "[(1, 1, 'spongebob@aol.com'), (2, 2, 'sandy@aol.com'), (3, 3, 'patrick@aol.com')]\n"
     ]
    }
   ],
   "source": [
    "with engine.connect() as conn:\n",
    "    result = conn.execute(select(email_table))\n",
    "    print(result.all())"
   ]
  },
  {
   "cell_type": "markdown",
   "id": "0222797d",
   "metadata": {},
   "source": [
    "## SELECT from two table\n",
    "\n",
    "SELECT statement di bawah ini melakukan SELECT kolom name pada tabel users dan mengkombinasikan dengan seluruh kolom yang ada pada tabel email."
   ]
  },
  {
   "cell_type": "code",
   "execution_count": 15,
   "id": "939677ec",
   "metadata": {},
   "outputs": [
    {
     "name": "stdout",
     "output_type": "stream",
     "text": [
      "('spongebob', 1, 1, 'spongebob@aol.com')\n",
      "('sandy', 2, 2, 'sandy@aol.com')\n",
      "('patrick', 3, 3, 'patrick@aol.com')\n"
     ]
    }
   ],
   "source": [
    "with engine.connect() as conn:\n",
    "    result = conn.execute(\n",
    "        select(users_table.c.name, email_table).\n",
    "        where(users_table.c.id == email_table.c.user_id).\n",
    "        order_by(email_table.c.id)\n",
    "    )\n",
    "    \n",
    "    for row in result.all():\n",
    "        print(row)"
   ]
  },
  {
   "cell_type": "markdown",
   "id": "b457c09c",
   "metadata": {},
   "source": [
    "## Selecting from Labeled SQL Expressions"
   ]
  },
  {
   "cell_type": "code",
   "execution_count": 20,
   "id": "a9011443",
   "metadata": {},
   "outputs": [
    {
     "name": "stdout",
     "output_type": "stream",
     "text": [
      "Username: patrick\n",
      "Username: sandy\n",
      "Username: spongebob\n"
     ]
    }
   ],
   "source": [
    "sel_stmt = select(\n",
    "               (\"Username: \" + users_table.c.name).label(\"username\")\n",
    "           ).order_by(users_table.c.name)\n",
    "    \n",
    "with engine.connect() as conn:\n",
    "    for row in conn.execute(sel_stmt):\n",
    "        print(f'{row.username}')"
   ]
  },
  {
   "cell_type": "markdown",
   "id": "bb5b7535",
   "metadata": {},
   "source": [
    "## Selecting with Textual Column Expressions"
   ]
  },
  {
   "cell_type": "code",
   "execution_count": 23,
   "id": "6763fe74",
   "metadata": {},
   "outputs": [
    {
     "name": "stdout",
     "output_type": "stream",
     "text": [
      "[('some phrase', 'patrick'), ('some phrase', 'sandy'), ('some phrase', 'spongebob')]\n"
     ]
    }
   ],
   "source": [
    "from sqlalchemy import text\n",
    "\n",
    "sel_stmt = (\n",
    "    select(\n",
    "        text(\"'some phrase'\"), users_table.c.name\n",
    "    ).order_by(users_table.c.name)\n",
    ")\n",
    "\n",
    "with engine.connect() as conn:\n",
    "    print(conn.execute(sel_stmt).all())"
   ]
  },
  {
   "cell_type": "code",
   "execution_count": null,
   "id": "3b377ef5",
   "metadata": {},
   "outputs": [],
   "source": []
  }
 ],
 "metadata": {
  "kernelspec": {
   "display_name": "Python 3 (ipykernel)",
   "language": "python",
   "name": "python3"
  },
  "language_info": {
   "codemirror_mode": {
    "name": "ipython",
    "version": 3
   },
   "file_extension": ".py",
   "mimetype": "text/x-python",
   "name": "python",
   "nbconvert_exporter": "python",
   "pygments_lexer": "ipython3",
   "version": "3.8.5"
  }
 },
 "nbformat": 4,
 "nbformat_minor": 5
}
