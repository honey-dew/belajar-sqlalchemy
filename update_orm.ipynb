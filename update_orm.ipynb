{
 "cells": [
  {
   "cell_type": "markdown",
   "id": "b892035d",
   "metadata": {},
   "source": [
    "# Updating ORM Object"
   ]
  },
  {
   "cell_type": "code",
   "execution_count": 1,
   "id": "d89d2e8b",
   "metadata": {},
   "outputs": [],
   "source": [
    "from sqlalchemy import create_engine, MetaData, Table\n",
    "from sqlalchemy.orm import declarative_base"
   ]
  },
  {
   "cell_type": "code",
   "execution_count": 2,
   "id": "32b6d653",
   "metadata": {},
   "outputs": [],
   "source": [
    "engine = create_engine(\"sqlite+pysqlite:///example2.db\", future=True)\n",
    "Base = declarative_base(bind=engine)\n",
    "\n",
    "class Users(Base):\n",
    "    __table__ = Table(\"users\", Base.metadata, autoload=engine)\n",
    "    __tablename__ = \"users\"\n",
    "    \n",
    "    def __repr__(self):\n",
    "        return f'Users(id={self.id!r}, name={self.name!r}, fullname={self.fullname!r})'\n",
    "    \n",
    "class Email(Base):\n",
    "    __table__ = Table(\"email\", Base.metadata, autoload=engine)\n",
    "    __tablename__ = \"email\"\n",
    "    \n",
    "    def __repr__(self):\n",
    "        return f'Email(email_address={self.email_address!r})'"
   ]
  },
  {
   "cell_type": "code",
   "execution_count": 3,
   "id": "3e55ad70",
   "metadata": {},
   "outputs": [
    {
     "name": "stdout",
     "output_type": "stream",
     "text": [
      "(Users(id=1, name='spongebob', fullname='spongebob squarepants'),)\n",
      "(Users(id=2, name='sandy', fullname='sandy squirrel'),)\n",
      "(Users(id=3, name='patrick', fullname='patrick star'),)\n"
     ]
    }
   ],
   "source": [
    "from sqlalchemy import select\n",
    "from sqlalchemy.orm import Session\n",
    "\n",
    "with Session(engine) as session:\n",
    "    result = session.execute(\n",
    "        select(Users)\n",
    "    )\n",
    "    \n",
    "    for row in result.all():\n",
    "        print(row)"
   ]
  },
  {
   "cell_type": "markdown",
   "id": "b5f919f0",
   "metadata": {},
   "source": [
    "Selanjutnya data dengan fullname sandy cheeks akan dilakukan update menjadi sandy squirrel."
   ]
  },
  {
   "cell_type": "code",
   "execution_count": 4,
   "id": "dfb20a5e",
   "metadata": {},
   "outputs": [],
   "source": [
    "sandy = session.execute(select(Users).filter_by(name =\"sandy\")).scalar_one()"
   ]
  },
  {
   "cell_type": "code",
   "execution_count": 5,
   "id": "bfed13a9",
   "metadata": {},
   "outputs": [
    {
     "data": {
      "text/plain": [
       "Users(id=2, name='sandy', fullname='sandy squirrel')"
      ]
     },
     "execution_count": 5,
     "metadata": {},
     "output_type": "execute_result"
    }
   ],
   "source": [
    "sandy"
   ]
  },
  {
   "cell_type": "code",
   "execution_count": 6,
   "id": "0da3b184",
   "metadata": {},
   "outputs": [
    {
     "data": {
      "text/plain": [
       "False"
      ]
     },
     "execution_count": 6,
     "metadata": {},
     "output_type": "execute_result"
    }
   ],
   "source": [
    "sandy in session.dirty"
   ]
  },
  {
   "cell_type": "code",
   "execution_count": 7,
   "id": "91dcf0be",
   "metadata": {},
   "outputs": [],
   "source": [
    "sandy.fullname = \"sandy squirrel\""
   ]
  },
  {
   "cell_type": "markdown",
   "id": "4185c6d0",
   "metadata": {},
   "source": [
    "Terdapat perubahan pada fullname sandy, dan session mengetahui perubahan ini dan objek tersebut diindikasikan dirty. "
   ]
  },
  {
   "cell_type": "code",
   "execution_count": 8,
   "id": "442576a2",
   "metadata": {},
   "outputs": [
    {
     "data": {
      "text/plain": [
       "True"
      ]
     },
     "execution_count": 8,
     "metadata": {},
     "output_type": "execute_result"
    }
   ],
   "source": [
    "sandy in session.dirty"
   ]
  },
  {
   "cell_type": "code",
   "execution_count": 9,
   "id": "a290c5a3",
   "metadata": {
    "scrolled": true
   },
   "outputs": [
    {
     "name": "stdout",
     "output_type": "stream",
     "text": [
      "(Users(id=1, name='spongebob', fullname='spongebob squarepants'),)\n",
      "(Users(id=2, name='sandy', fullname='sandy squirrel'),)\n",
      "(Users(id=3, name='patrick', fullname='patrick star'),)\n"
     ]
    }
   ],
   "source": [
    "for row in session.execute(select(Users)).all():\n",
    "    print(row)"
   ]
  },
  {
   "cell_type": "code",
   "execution_count": 10,
   "id": "50307992",
   "metadata": {},
   "outputs": [
    {
     "data": {
      "text/plain": [
       "False"
      ]
     },
     "execution_count": 10,
     "metadata": {},
     "output_type": "execute_result"
    }
   ],
   "source": [
    "sandy in session.dirty"
   ]
  },
  {
   "cell_type": "markdown",
   "id": "80c2d87f",
   "metadata": {},
   "source": [
    "Pada saat session mengindikasikan suatu objek menjadi dirty, dan apabila terdapat pemanggilan fungsi select maka session akan secara otomatis melakukan flushing sehingga apabila setelah pemanggilan fungsi select dilakukan pengecekan apakah suatu objek dirty maka objek tersebut sudah tidak dirty lagi. Dan untuk melakukan perubahan tinggal memanggil session.commit() saja."
   ]
  },
  {
   "cell_type": "code",
   "execution_count": 11,
   "id": "f4c9c9f5",
   "metadata": {},
   "outputs": [],
   "source": [
    "session.commit()"
   ]
  },
  {
   "cell_type": "code",
   "execution_count": 12,
   "id": "73f43486",
   "metadata": {},
   "outputs": [
    {
     "name": "stdout",
     "output_type": "stream",
     "text": [
      "(Users(id=1, name='spongebob', fullname='spongebob squarepants'),)\n",
      "(Users(id=2, name='sandy', fullname='sandy squirrel'),)\n",
      "(Users(id=3, name='patrick', fullname='patrick star'),)\n"
     ]
    }
   ],
   "source": [
    "with Session(engine) as session:\n",
    "    result = session.execute(\n",
    "        select(Users)\n",
    "    )\n",
    "    \n",
    "    for row in result.all():\n",
    "        print(row)"
   ]
  },
  {
   "cell_type": "markdown",
   "id": "647b18cd",
   "metadata": {},
   "source": [
    "Sekarang fullname sandy sudah berubah menjadi sandy squirrel. Selain dengan cara terxebut di atas untuk merubah data atau baris tersebut, masih terdapat cara yang lain seperti berikut ini:"
   ]
  },
  {
   "cell_type": "code",
   "execution_count": 13,
   "id": "5f2c1aa3",
   "metadata": {},
   "outputs": [],
   "source": [
    "from sqlalchemy import update"
   ]
  },
  {
   "cell_type": "code",
   "execution_count": 14,
   "id": "19b46891",
   "metadata": {},
   "outputs": [],
   "source": [
    "sandy = session.execute(select(Users).filter_by(name =\"sandy\")).scalar_one()"
   ]
  },
  {
   "cell_type": "code",
   "execution_count": 15,
   "id": "e68c8b59",
   "metadata": {},
   "outputs": [
    {
     "data": {
      "text/plain": [
       "Users(id=2, name='sandy', fullname='sandy squirrel')"
      ]
     },
     "execution_count": 15,
     "metadata": {},
     "output_type": "execute_result"
    }
   ],
   "source": [
    "sandy"
   ]
  },
  {
   "cell_type": "code",
   "execution_count": 16,
   "id": "b73e70cb",
   "metadata": {},
   "outputs": [
    {
     "data": {
      "text/plain": [
       "'sandy squirrel'"
      ]
     },
     "execution_count": 16,
     "metadata": {},
     "output_type": "execute_result"
    }
   ],
   "source": [
    "sandy.fullname"
   ]
  },
  {
   "cell_type": "code",
   "execution_count": 17,
   "id": "28893bb3",
   "metadata": {},
   "outputs": [
    {
     "data": {
      "text/plain": [
       "<sqlalchemy.engine.cursor.CursorResult at 0x7f59d40f2f70>"
      ]
     },
     "execution_count": 17,
     "metadata": {},
     "output_type": "execute_result"
    }
   ],
   "source": [
    "session.execute(\n",
    "    update(Users).where(Users.name == \"sandy\").\n",
    "    values(fullname = \"sandy squirrel extraordinaire\")\n",
    ")"
   ]
  },
  {
   "cell_type": "code",
   "execution_count": 18,
   "id": "c4c3c9d8",
   "metadata": {},
   "outputs": [
    {
     "data": {
      "text/plain": [
       "'sandy squirrel extraordinaire'"
      ]
     },
     "execution_count": 18,
     "metadata": {},
     "output_type": "execute_result"
    }
   ],
   "source": [
    "sandy.fullname"
   ]
  },
  {
   "cell_type": "code",
   "execution_count": 19,
   "id": "bb6469d3",
   "metadata": {},
   "outputs": [],
   "source": [
    "session.commit()"
   ]
  },
  {
   "cell_type": "code",
   "execution_count": 20,
   "id": "0205060c",
   "metadata": {},
   "outputs": [
    {
     "name": "stdout",
     "output_type": "stream",
     "text": [
      "(Users(id=1, name='spongebob', fullname='spongebob squarepants'),)\n",
      "(Users(id=2, name='sandy', fullname='sandy squirrel extraordinaire'),)\n",
      "(Users(id=3, name='patrick', fullname='patrick star'),)\n"
     ]
    }
   ],
   "source": [
    "with Session(engine) as session:\n",
    "    result = session.execute(\n",
    "        select(Users)\n",
    "    )\n",
    "    \n",
    "    for row in result.all():\n",
    "        print(row)"
   ]
  }
 ],
 "metadata": {
  "kernelspec": {
   "display_name": "Python 3 (ipykernel)",
   "language": "python",
   "name": "python3"
  },
  "language_info": {
   "codemirror_mode": {
    "name": "ipython",
    "version": 3
   },
   "file_extension": ".py",
   "mimetype": "text/x-python",
   "name": "python",
   "nbconvert_exporter": "python",
   "pygments_lexer": "ipython3",
   "version": "3.8.5"
  }
 },
 "nbformat": 4,
 "nbformat_minor": 5
}
