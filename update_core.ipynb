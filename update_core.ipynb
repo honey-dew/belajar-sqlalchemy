{
 "cells": [
  {
   "cell_type": "markdown",
   "id": "5141c66e",
   "metadata": {},
   "source": [
    "# Updating Rows with Core"
   ]
  },
  {
   "cell_type": "markdown",
   "id": "cc360f84",
   "metadata": {},
   "source": [
    "Fungsi <b>update()</b> akan menghasilkan instance baru dari UPdate yang merepresentasikan UPDATE statement pada SQL yang akan mengupdate data yang ada pada tabel."
   ]
  },
  {
   "cell_type": "code",
   "execution_count": 1,
   "id": "e70b0743",
   "metadata": {},
   "outputs": [],
   "source": [
    "from sqlalchemy import create_engine, MetaData"
   ]
  },
  {
   "cell_type": "code",
   "execution_count": 2,
   "id": "a4ebb738",
   "metadata": {},
   "outputs": [],
   "source": [
    "engine = create_engine(\"sqlite+pysqlite:///example.db\", future=True)\n",
    "metadata = MetaData(bind=engine)\n",
    "metadata.reflect()\n",
    "\n",
    "users_table = metadata.tables[\"users\"]\n",
    "email_table = metadata.tables[\"email\"]"
   ]
  },
  {
   "cell_type": "code",
   "execution_count": 5,
   "id": "ed51cd61",
   "metadata": {},
   "outputs": [
    {
     "name": "stdout",
     "output_type": "stream",
     "text": [
      "(1, 'spongebob', 'spongebob squarepants')\n",
      "(2, 'sandy', 'sandy cheeks')\n",
      "(3, 'patrick', 'patrick star')\n"
     ]
    }
   ],
   "source": [
    "from sqlalchemy import select\n",
    "\n",
    "with engine.connect() as conn:\n",
    "    result = conn.execute(select(users_table))\n",
    "    \n",
    "    for row in result.all():\n",
    "        print(row)"
   ]
  },
  {
   "cell_type": "markdown",
   "id": "6089a91c",
   "metadata": {},
   "source": [
    "Mengupdate fullname dari patrick yang semula patrick star menjadi patrick the star. "
   ]
  },
  {
   "cell_type": "code",
   "execution_count": 6,
   "id": "11f8e518",
   "metadata": {},
   "outputs": [
    {
     "name": "stdout",
     "output_type": "stream",
     "text": [
      "UPDATE users SET fullname=? WHERE users.name = ?\n"
     ]
    }
   ],
   "source": [
    "from sqlalchemy import update\n",
    "\n",
    "upd_stmt = (\n",
    "    update(users_table).where(users_table.c.name == \"patrick\").\n",
    "    values(fullname = \"patrick the star\")\n",
    ")\n",
    "\n",
    "print(upd_stmt)"
   ]
  },
  {
   "cell_type": "code",
   "execution_count": 8,
   "id": "6527cddc",
   "metadata": {},
   "outputs": [],
   "source": [
    "with engine.connect() as conn:\n",
    "    conn.execute(upd_stmt)\n",
    "    conn.commit()"
   ]
  },
  {
   "cell_type": "code",
   "execution_count": 9,
   "id": "d9a0ee0d",
   "metadata": {},
   "outputs": [
    {
     "name": "stdout",
     "output_type": "stream",
     "text": [
      "(1, 'spongebob', 'spongebob squarepants')\n",
      "(2, 'sandy', 'sandy cheeks')\n",
      "(3, 'patrick', 'patrick the star')\n"
     ]
    }
   ],
   "source": [
    "with engine.connect() as conn:\n",
    "    result = conn.execute(select(users_table))\n",
    "    \n",
    "    for row in result.all():\n",
    "        print(row)"
   ]
  },
  {
   "cell_type": "markdown",
   "id": "199c82c3",
   "metadata": {},
   "source": [
    "Sekarang pada tabel users fullname dari patrick telah berubah menjadi patrick the star."
   ]
  }
 ],
 "metadata": {
  "kernelspec": {
   "display_name": "Python 3 (ipykernel)",
   "language": "python",
   "name": "python3"
  },
  "language_info": {
   "codemirror_mode": {
    "name": "ipython",
    "version": 3
   },
   "file_extension": ".py",
   "mimetype": "text/x-python",
   "name": "python",
   "nbconvert_exporter": "python",
   "pygments_lexer": "ipython3",
   "version": "3.8.5"
  }
 },
 "nbformat": 4,
 "nbformat_minor": 5
}
