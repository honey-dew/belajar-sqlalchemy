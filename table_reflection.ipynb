{
 "cells": [
  {
   "cell_type": "markdown",
   "id": "7f821377",
   "metadata": {},
   "source": [
    "# Table Reflection"
   ]
  },
  {
   "cell_type": "markdown",
   "id": "d5092f04",
   "metadata": {},
   "source": [
    "Sebuah objek Table bisa diinstruksikan to memuat informasi mengenai dirinya sendiri dari dari objek skema database terkait yang sudah ada di dalam database, dan proses tersebut disebut <b>reflection</b>. Table reflection mengacu pada proses pembuatan table dan objek yang terkait dengan membaca status database saat ini. Berikut ini adalah contoh dari table reflection:\n",
    "\n",
    "<b>some_table = Table(\"some_table\", metadata, autoload=engine)</b>\n",
    "\n",
    "Pada contoh di bawah ini akan memcoba membuat tabel dari database SQLite yang sudah ada yang di dalamnya sudah terdapat dua buah tabel yaitu tabel users dan tabel email. "
   ]
  },
  {
   "cell_type": "code",
   "execution_count": 4,
   "id": "22d38ec7",
   "metadata": {},
   "outputs": [],
   "source": [
    "from sqlalchemy import create_engine, MetaData, Table\n",
    "\n",
    "engine = create_engine(\"sqlite+pysqlite:///example.db\", future=True)\n",
    "metadata = MetaData(bind=engine)"
   ]
  },
  {
   "cell_type": "code",
   "execution_count": 5,
   "id": "2c96a9cc",
   "metadata": {},
   "outputs": [
    {
     "data": {
      "text/plain": [
       "FacadeDict({})"
      ]
     },
     "execution_count": 5,
     "metadata": {},
     "output_type": "execute_result"
    }
   ],
   "source": [
    "metadata.tables"
   ]
  },
  {
   "cell_type": "markdown",
   "id": "a0c4e7e5",
   "metadata": {},
   "source": [
    "Metadata belum berisi apa-apa, selanjutnya metadata tersebut akan diisi dengan tabel"
   ]
  },
  {
   "cell_type": "markdown",
   "id": "d86f578f",
   "metadata": {},
   "source": [
    "## Membuat tabel email"
   ]
  },
  {
   "cell_type": "code",
   "execution_count": 6,
   "id": "29c861c3",
   "metadata": {},
   "outputs": [],
   "source": [
    "email_table = Table(\"email\", metadata, autoload=engine)"
   ]
  },
  {
   "cell_type": "code",
   "execution_count": 7,
   "id": "898638a4",
   "metadata": {},
   "outputs": [
    {
     "data": {
      "text/plain": [
       "FacadeDict({'email': Table('email', MetaData(bind=Engine(sqlite+pysqlite:///example.db)), Column('id', INTEGER(), table=<email>, primary_key=True, nullable=False), Column('user_id', INTEGER(), ForeignKey('users.id'), table=<email>, nullable=False), Column('email_address', VARCHAR(), table=<email>, nullable=False), schema=None), 'users': Table('users', MetaData(bind=Engine(sqlite+pysqlite:///example.db)), Column('id', INTEGER(), table=<users>, primary_key=True, nullable=False), Column('name', VARCHAR(length=30), table=<users>), Column('fullname', VARCHAR(), table=<users>), schema=None)})"
      ]
     },
     "execution_count": 7,
     "metadata": {},
     "output_type": "execute_result"
    }
   ],
   "source": [
    "metadata.tables"
   ]
  },
  {
   "cell_type": "markdown",
   "id": "6eb16835",
   "metadata": {},
   "source": [
    "Sekarang metadata sudah berisi informasi mengenai tabel yang baru saja dibuat."
   ]
  },
  {
   "cell_type": "code",
   "execution_count": 5,
   "id": "37a12157",
   "metadata": {},
   "outputs": [
    {
     "data": {
      "text/plain": [
       "Table('email', MetaData(bind=Engine(sqlite+pysqlite:///example.db)), Column('id', INTEGER(), table=<email>, primary_key=True, nullable=False), Column('user_id', INTEGER(), ForeignKey('users.id'), table=<email>, nullable=False), Column('email_address', VARCHAR(), table=<email>, nullable=False), schema=None)"
      ]
     },
     "execution_count": 5,
     "metadata": {},
     "output_type": "execute_result"
    }
   ],
   "source": [
    "email_table"
   ]
  },
  {
   "cell_type": "markdown",
   "id": "20828d78",
   "metadata": {},
   "source": [
    "Tabel email menginformasikan bahwa tabel email ini mempunyai relasi dengan tabel users karena kolom user_id pada tabel email merupakan foreign key untuk kolom id pada tabel users."
   ]
  },
  {
   "cell_type": "code",
   "execution_count": 11,
   "id": "c3bb88a8",
   "metadata": {},
   "outputs": [
    {
     "data": {
      "text/plain": [
       "[('id',\n",
       "  Column('id', INTEGER(), table=<email>, primary_key=True, nullable=False)),\n",
       " ('user_id',\n",
       "  Column('user_id', INTEGER(), ForeignKey('users.id'), table=<email>, nullable=False)),\n",
       " ('email_address',\n",
       "  Column('email_address', VARCHAR(), table=<email>, nullable=False))]"
      ]
     },
     "execution_count": 11,
     "metadata": {},
     "output_type": "execute_result"
    }
   ],
   "source": [
    "email_table.c.items()"
   ]
  },
  {
   "cell_type": "markdown",
   "id": "635fdf22",
   "metadata": {},
   "source": [
    "## Membuat tabel users"
   ]
  },
  {
   "cell_type": "code",
   "execution_count": 12,
   "id": "451b420d",
   "metadata": {},
   "outputs": [],
   "source": [
    "users_table = Table(\"users\", metadata, autoload=engine)"
   ]
  },
  {
   "cell_type": "code",
   "execution_count": 14,
   "id": "5f89efc4",
   "metadata": {},
   "outputs": [
    {
     "data": {
      "text/plain": [
       "Table('users', MetaData(bind=Engine(sqlite+pysqlite:///example.db)), Column('id', INTEGER(), table=<users>, primary_key=True, nullable=False), Column('name', VARCHAR(length=30), table=<users>), Column('fullname', VARCHAR(), table=<users>), schema=None)"
      ]
     },
     "execution_count": 14,
     "metadata": {},
     "output_type": "execute_result"
    }
   ],
   "source": [
    "users_table"
   ]
  },
  {
   "cell_type": "code",
   "execution_count": 15,
   "id": "e782ba00",
   "metadata": {},
   "outputs": [
    {
     "data": {
      "text/plain": [
       "[('id',\n",
       "  Column('id', INTEGER(), table=<users>, primary_key=True, nullable=False)),\n",
       " ('name', Column('name', VARCHAR(length=30), table=<users>)),\n",
       " ('fullname', Column('fullname', VARCHAR(), table=<users>))]"
      ]
     },
     "execution_count": 15,
     "metadata": {},
     "output_type": "execute_result"
    }
   ],
   "source": [
    "users_table.c.items()"
   ]
  },
  {
   "cell_type": "code",
   "execution_count": 24,
   "id": "6d76b756",
   "metadata": {},
   "outputs": [
    {
     "data": {
      "text/plain": [
       "[Table('users', MetaData(bind=Engine(sqlite+pysqlite:///example.db)), Column('id', INTEGER(), table=<users>, primary_key=True, nullable=False), Column('name', VARCHAR(length=30), table=<users>), Column('fullname', VARCHAR(), table=<users>), schema=None),\n",
       " Table('email', MetaData(bind=Engine(sqlite+pysqlite:///example.db)), Column('id', INTEGER(), table=<email>, primary_key=True, nullable=False), Column('user_id', INTEGER(), ForeignKey('users.id'), table=<email>, nullable=False), Column('email_address', VARCHAR(), table=<email>, nullable=False), schema=None)]"
      ]
     },
     "execution_count": 24,
     "metadata": {},
     "output_type": "execute_result"
    }
   ],
   "source": [
    "metadata.sorted_tables"
   ]
  },
  {
   "cell_type": "code",
   "execution_count": 8,
   "id": "51853da7",
   "metadata": {},
   "outputs": [
    {
     "data": {
      "text/plain": [
       "True"
      ]
     },
     "execution_count": 8,
     "metadata": {},
     "output_type": "execute_result"
    }
   ],
   "source": [
    "\"users\" in metadata.tables"
   ]
  },
  {
   "cell_type": "markdown",
   "id": "98e7eb05",
   "metadata": {},
   "source": [
    "## Reflecting All Tables at Once"
   ]
  },
  {
   "cell_type": "code",
   "execution_count": 19,
   "id": "6baa5551",
   "metadata": {},
   "outputs": [],
   "source": [
    "from sqlalchemy import create_engine, MetaData, Table\n",
    "\n",
    "engine = create_engine(\"sqlite+pysqlite:///example.db\", future=True)"
   ]
  },
  {
   "cell_type": "code",
   "execution_count": 20,
   "id": "bbf66208",
   "metadata": {},
   "outputs": [],
   "source": [
    "metadata = MetaData()"
   ]
  },
  {
   "cell_type": "code",
   "execution_count": 21,
   "id": "44de8415",
   "metadata": {},
   "outputs": [],
   "source": [
    "metadata.reflect(bind=engine)"
   ]
  },
  {
   "cell_type": "code",
   "execution_count": 22,
   "id": "fa1364fc",
   "metadata": {},
   "outputs": [
    {
     "data": {
      "text/plain": [
       "FacadeDict({'email': Table('email', MetaData(), Column('id', INTEGER(), table=<email>, primary_key=True, nullable=False), Column('user_id', INTEGER(), ForeignKey('users.id'), table=<email>, nullable=False), Column('email_address', VARCHAR(), table=<email>, nullable=False), schema=None), 'users': Table('users', MetaData(), Column('id', INTEGER(), table=<users>, primary_key=True, nullable=False), Column('name', VARCHAR(length=30), table=<users>), Column('fullname', VARCHAR(), table=<users>), schema=None)})"
      ]
     },
     "execution_count": 22,
     "metadata": {},
     "output_type": "execute_result"
    }
   ],
   "source": [
    "metadata.tables"
   ]
  },
  {
   "cell_type": "code",
   "execution_count": 23,
   "id": "a55e3129",
   "metadata": {},
   "outputs": [
    {
     "name": "stdout",
     "output_type": "stream",
     "text": [
      "email\n",
      "users\n"
     ]
    }
   ],
   "source": [
    "for table in metadata.tables:\n",
    "    print(table)"
   ]
  },
  {
   "cell_type": "code",
   "execution_count": 24,
   "id": "0aee0956",
   "metadata": {},
   "outputs": [],
   "source": [
    "email_table_copy = metadata.tables[\"email\"]\n",
    "users_table_copy = metadata.tables[\"users\"]"
   ]
  },
  {
   "cell_type": "code",
   "execution_count": 25,
   "id": "a25383b3",
   "metadata": {},
   "outputs": [
    {
     "data": {
      "text/plain": [
       "[('id',\n",
       "  Column('id', INTEGER(), table=<email>, primary_key=True, nullable=False)),\n",
       " ('user_id',\n",
       "  Column('user_id', INTEGER(), ForeignKey('users.id'), table=<email>, nullable=False)),\n",
       " ('email_address',\n",
       "  Column('email_address', VARCHAR(), table=<email>, nullable=False))]"
      ]
     },
     "execution_count": 25,
     "metadata": {},
     "output_type": "execute_result"
    }
   ],
   "source": [
    "email_table_copy.c.items()"
   ]
  },
  {
   "cell_type": "code",
   "execution_count": 26,
   "id": "dc0b248f",
   "metadata": {},
   "outputs": [
    {
     "data": {
      "text/plain": [
       "[('id',\n",
       "  Column('id', INTEGER(), table=<users>, primary_key=True, nullable=False)),\n",
       " ('name', Column('name', VARCHAR(length=30), table=<users>)),\n",
       " ('fullname', Column('fullname', VARCHAR(), table=<users>))]"
      ]
     },
     "execution_count": 26,
     "metadata": {},
     "output_type": "execute_result"
    }
   ],
   "source": [
    "users_table_copy.c.items()"
   ]
  },
  {
   "cell_type": "markdown",
   "id": "2110aca1",
   "metadata": {},
   "source": [
    "## Reflection with Inspector"
   ]
  },
  {
   "cell_type": "code",
   "execution_count": 1,
   "id": "6d591b86",
   "metadata": {},
   "outputs": [],
   "source": [
    "from sqlalchemy import create_engine, MetaData, Table, inspect\n",
    "\n",
    "engine = create_engine(\"sqlite+pysqlite:///example.db\", future=True)"
   ]
  },
  {
   "cell_type": "code",
   "execution_count": 9,
   "id": "59999d24",
   "metadata": {},
   "outputs": [],
   "source": [
    "insp = inspect(engine)"
   ]
  },
  {
   "cell_type": "code",
   "execution_count": 22,
   "id": "bbfe38fd",
   "metadata": {},
   "outputs": [
    {
     "data": {
      "text/plain": [
       "<sqlalchemy.dialects.sqlite.pysqlite.SQLiteDialect_pysqlite at 0x7f4c39d0f2e0>"
      ]
     },
     "execution_count": 22,
     "metadata": {},
     "output_type": "execute_result"
    }
   ],
   "source": [
    "insp.dialect"
   ]
  },
  {
   "cell_type": "code",
   "execution_count": 12,
   "id": "88235637",
   "metadata": {},
   "outputs": [
    {
     "data": {
      "text/plain": [
       "Engine(sqlite+pysqlite:///example.db)"
      ]
     },
     "execution_count": 12,
     "metadata": {},
     "output_type": "execute_result"
    }
   ],
   "source": [
    "insp.engine"
   ]
  },
  {
   "cell_type": "code",
   "execution_count": 20,
   "id": "4a81c337",
   "metadata": {},
   "outputs": [
    {
     "data": {
      "text/plain": [
       "['email', 'users']"
      ]
     },
     "execution_count": 20,
     "metadata": {},
     "output_type": "execute_result"
    }
   ],
   "source": [
    "insp.get_table_names()"
   ]
  },
  {
   "cell_type": "code",
   "execution_count": 23,
   "id": "de29986e",
   "metadata": {},
   "outputs": [
    {
     "data": {
      "text/plain": [
       "[{'name': 'id',\n",
       "  'type': INTEGER(),\n",
       "  'nullable': False,\n",
       "  'default': None,\n",
       "  'autoincrement': 'auto',\n",
       "  'primary_key': 1},\n",
       " {'name': 'user_id',\n",
       "  'type': INTEGER(),\n",
       "  'nullable': False,\n",
       "  'default': None,\n",
       "  'autoincrement': 'auto',\n",
       "  'primary_key': 0},\n",
       " {'name': 'email_address',\n",
       "  'type': VARCHAR(),\n",
       "  'nullable': False,\n",
       "  'default': None,\n",
       "  'autoincrement': 'auto',\n",
       "  'primary_key': 0}]"
      ]
     },
     "execution_count": 23,
     "metadata": {},
     "output_type": "execute_result"
    }
   ],
   "source": [
    "insp.get_columns(\"email\")"
   ]
  },
  {
   "cell_type": "markdown",
   "id": "4c38b38c",
   "metadata": {},
   "source": [
    "## Mapping Declaratively with Reflected Tables"
   ]
  },
  {
   "cell_type": "code",
   "execution_count": 1,
   "id": "f1a22120",
   "metadata": {},
   "outputs": [],
   "source": [
    "from sqlalchemy import create_engine, Table\n",
    "from sqlalchemy.orm import declarative_base"
   ]
  },
  {
   "cell_type": "code",
   "execution_count": 2,
   "id": "e194355c",
   "metadata": {},
   "outputs": [],
   "source": [
    "engine = create_engine(\"sqlite+pysqlite:///example2.db\", future=True)\n",
    "Base = declarative_base(bind=engine)"
   ]
  },
  {
   "cell_type": "code",
   "execution_count": 3,
   "id": "db198733",
   "metadata": {},
   "outputs": [],
   "source": [
    "class Users(Base):\n",
    "    __table__ = Table(\"users\", Base.metadata, autoload=engine)\n",
    "    __tablename__ = \"users\"\n",
    "    \n",
    "    def __repr__(self):\n",
    "        return f'User(id={self.id!r}, name={self.name!r}, fullname={self.fullname!r})'"
   ]
  },
  {
   "cell_type": "code",
   "execution_count": 4,
   "id": "276a016b",
   "metadata": {},
   "outputs": [
    {
     "data": {
      "text/plain": [
       "__main__.Users"
      ]
     },
     "execution_count": 4,
     "metadata": {},
     "output_type": "execute_result"
    }
   ],
   "source": [
    "Users"
   ]
  },
  {
   "cell_type": "code",
   "execution_count": 5,
   "id": "8705dea3",
   "metadata": {},
   "outputs": [
    {
     "data": {
      "text/plain": [
       "Table('users', MetaData(bind=Engine(sqlite+pysqlite:///example2.db)), Column('id', INTEGER(), table=<users>, primary_key=True, nullable=False), Column('name', VARCHAR(length=30), table=<users>), Column('fullname', VARCHAR(), table=<users>), schema=None)"
      ]
     },
     "execution_count": 5,
     "metadata": {},
     "output_type": "execute_result"
    }
   ],
   "source": [
    "Users.__table__"
   ]
  },
  {
   "cell_type": "code",
   "execution_count": 6,
   "id": "15845de7",
   "metadata": {},
   "outputs": [
    {
     "data": {
      "text/plain": [
       "'users'"
      ]
     },
     "execution_count": 6,
     "metadata": {},
     "output_type": "execute_result"
    }
   ],
   "source": [
    "Users.__tablename__"
   ]
  },
  {
   "cell_type": "code",
   "execution_count": 7,
   "id": "455c9ccb",
   "metadata": {},
   "outputs": [],
   "source": [
    "muhlisadiwiguna = Users(name=\"Muhlis\", fullname=\"Muhlis Adiwiguna\")"
   ]
  },
  {
   "cell_type": "code",
   "execution_count": 8,
   "id": "40b3521d",
   "metadata": {},
   "outputs": [
    {
     "data": {
      "text/plain": [
       "User(id=None, name='Muhlis', fullname='Muhlis Adiwiguna')"
      ]
     },
     "execution_count": 8,
     "metadata": {},
     "output_type": "execute_result"
    }
   ],
   "source": [
    "muhlisadiwiguna"
   ]
  },
  {
   "cell_type": "code",
   "execution_count": 9,
   "id": "756b13bb",
   "metadata": {},
   "outputs": [],
   "source": [
    "class Email(Base):\n",
    "    __table__ = Table(\"email\", Base.metadata, autoload=engine)\n",
    "    __tablename__ = \"email\"\n",
    "    \n",
    "    def __repr__(self):\n",
    "        return f'Email(id={self.id!r}, email_address={self.email_address!r})'"
   ]
  },
  {
   "cell_type": "code",
   "execution_count": 10,
   "id": "ab2daf50",
   "metadata": {},
   "outputs": [
    {
     "data": {
      "text/plain": [
       "Table('email', MetaData(bind=Engine(sqlite+pysqlite:///example2.db)), Column('id', INTEGER(), table=<email>, primary_key=True, nullable=False), Column('email_address', VARCHAR(), table=<email>, nullable=False), Column('user_id', INTEGER(), ForeignKey('users.id'), table=<email>), schema=None)"
      ]
     },
     "execution_count": 10,
     "metadata": {},
     "output_type": "execute_result"
    }
   ],
   "source": [
    "Email.__table__"
   ]
  },
  {
   "cell_type": "code",
   "execution_count": 11,
   "id": "8169ef53",
   "metadata": {},
   "outputs": [
    {
     "data": {
      "text/plain": [
       "'email'"
      ]
     },
     "execution_count": 11,
     "metadata": {},
     "output_type": "execute_result"
    }
   ],
   "source": [
    "Email.__tablename__"
   ]
  }
 ],
 "metadata": {
  "kernelspec": {
   "display_name": "Python 3 (ipykernel)",
   "language": "python",
   "name": "python3"
  },
  "language_info": {
   "codemirror_mode": {
    "name": "ipython",
    "version": 3
   },
   "file_extension": ".py",
   "mimetype": "text/x-python",
   "name": "python",
   "nbconvert_exporter": "python",
   "pygments_lexer": "ipython3",
   "version": "3.8.5"
  }
 },
 "nbformat": 4,
 "nbformat_minor": 5
}
