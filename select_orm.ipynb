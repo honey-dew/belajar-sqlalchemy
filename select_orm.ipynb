{
 "cells": [
  {
   "cell_type": "markdown",
   "id": "ebf2a688",
   "metadata": {},
   "source": [
    "# Selecting Rows with ORM"
   ]
  },
  {
   "cell_type": "markdown",
   "id": "50c98ef7",
   "metadata": {},
   "source": [
    "Pada saat menggunakan ORM untuk mengeksekusi statement, maka dapat dengan menggunakan <b>Session.execute()</b>."
   ]
  },
  {
   "cell_type": "code",
   "execution_count": 1,
   "id": "58c827d6",
   "metadata": {},
   "outputs": [],
   "source": [
    "from sqlalchemy import create_engine, MetaData, Table\n",
    "from sqlalchemy.orm import declarative_base\n",
    "\n",
    "engine = create_engine(\"sqlite+pysqlite:///example2.db\", future=True)\n",
    "Base = declarative_base(bind=engine)"
   ]
  },
  {
   "cell_type": "code",
   "execution_count": 2,
   "id": "f50033f0",
   "metadata": {},
   "outputs": [],
   "source": [
    "class Users(Base):\n",
    "    __table__ = Table(\"users\", Base.metadata, autoload=engine)\n",
    "    __tablename__ = \"users\"\n",
    "    \n",
    "    def __repr__(self):\n",
    "        return f'User(id={self.id!r}, name={self.name!r}, fullname={self.fullname!r})'\n",
    "    \n",
    "class Email(Base):\n",
    "    __table__ = Table(\"email\", Base.metadata, autoload=engine)\n",
    "    __tablename__ = \"email\"\n",
    "    \n",
    "    def __repr__(self):\n",
    "        return f'Email(id={self.id!r}, email_address={self.email_address!r})'"
   ]
  },
  {
   "cell_type": "code",
   "execution_count": 3,
   "id": "2b813637",
   "metadata": {},
   "outputs": [],
   "source": [
    "from sqlalchemy import select\n",
    "from sqlalchemy.orm import Session"
   ]
  },
  {
   "cell_type": "code",
   "execution_count": 4,
   "id": "562c5b18",
   "metadata": {},
   "outputs": [
    {
     "name": "stdout",
     "output_type": "stream",
     "text": [
      "SELECT users.id, users.name, users.fullname \n",
      "FROM users\n"
     ]
    }
   ],
   "source": [
    "sel_stmt = select(Users)\n",
    "print(sel_stmt)"
   ]
  },
  {
   "cell_type": "code",
   "execution_count": 5,
   "id": "d33b8e96",
   "metadata": {},
   "outputs": [
    {
     "name": "stdout",
     "output_type": "stream",
     "text": [
      "(User(id=1, name='spongebob', fullname='spongebob squarepants'),)\n",
      "(User(id=2, name='sandy', fullname='sandy cheeks'),)\n",
      "(User(id=3, name='patrick', fullname='patrick star'),)\n"
     ]
    }
   ],
   "source": [
    "with Session(engine) as session:\n",
    "    for row in session.execute(sel_stmt):\n",
    "        print(row)"
   ]
  },
  {
   "cell_type": "code",
   "execution_count": 7,
   "id": "06bb1d1f",
   "metadata": {},
   "outputs": [
    {
     "name": "stdout",
     "output_type": "stream",
     "text": [
      "(User(id=1, name='spongebob', fullname='spongebob squarepants'),)\n"
     ]
    }
   ],
   "source": [
    "sel_stmt = select(Users).where(Users.name == \"spongebob\")\n",
    "with Session(engine) as session:\n",
    "    for row in session.execute(sel_stmt):\n",
    "        print(row)"
   ]
  },
  {
   "cell_type": "markdown",
   "id": "d9792ac7",
   "metadata": {},
   "source": [
    "# SELECT Individual Columns"
   ]
  },
  {
   "cell_type": "code",
   "execution_count": 8,
   "id": "a5a1dace",
   "metadata": {},
   "outputs": [
    {
     "name": "stdout",
     "output_type": "stream",
     "text": [
      "SELECT users.name \n",
      "FROM users\n"
     ]
    }
   ],
   "source": [
    "sel_stmt = select(Users.name)\n",
    "print(sel_stmt)"
   ]
  },
  {
   "cell_type": "code",
   "execution_count": 12,
   "id": "c2f9ce11",
   "metadata": {},
   "outputs": [
    {
     "name": "stdout",
     "output_type": "stream",
     "text": [
      "[('spongebob',), ('sandy',), ('patrick',)]\n"
     ]
    }
   ],
   "source": [
    "with Session(engine) as session:\n",
    "    result = session.execute(sel_stmt)\n",
    "    print(result.fetchall())"
   ]
  },
  {
   "cell_type": "markdown",
   "id": "c5abec4f",
   "metadata": {},
   "source": [
    "## SELECT from two table\n",
    "\n",
    "SELECT statement di bawah ini melakukan SELECT kolom name pada tabel users dan mengkombinasikan dengan seluruh kolom yang ada pada tabel email."
   ]
  },
  {
   "cell_type": "code",
   "execution_count": 24,
   "id": "bb31804d",
   "metadata": {},
   "outputs": [
    {
     "name": "stdout",
     "output_type": "stream",
     "text": [
      "('spongebob', Email(id=1, email_address='spongebob@aol.com'))\n",
      "('sandy', Email(id=2, email_address='sandy@aol.com'))\n",
      "('patrick', Email(id=3, email_address='patrick@aol.com'))\n"
     ]
    }
   ],
   "source": [
    "engine_core = create_engine(\"sqlite+pysqlite:///example.db\", future=True)\n",
    "with Session(engine_core) as session:\n",
    "    result = session.execute(\n",
    "        select(Users.name, Email).\n",
    "        where(Users.id == Email.user_id).\n",
    "        order_by(Email.id)\n",
    "    )\n",
    "    \n",
    "    for row in result.all():\n",
    "        print(row)"
   ]
  },
  {
   "cell_type": "markdown",
   "id": "801f8c63",
   "metadata": {},
   "source": [
    "## Selecting from Labeled SQL Expressions"
   ]
  },
  {
   "cell_type": "code",
   "execution_count": 26,
   "id": "33c0d1dd",
   "metadata": {},
   "outputs": [
    {
     "name": "stdout",
     "output_type": "stream",
     "text": [
      "Username: patrick\n",
      "Username: sandy\n",
      "Username: spongebob\n"
     ]
    }
   ],
   "source": [
    "sel_stmt = select(\n",
    "               (\"Username: \" + Users.name).label(\"username\")\n",
    "           ).order_by(Users.name)\n",
    "    \n",
    "with Session(engine) as session:\n",
    "    for row in session.execute(sel_stmt):\n",
    "        print(f'{row.username}')\n"
   ]
  },
  {
   "cell_type": "markdown",
   "id": "329063c0",
   "metadata": {},
   "source": [
    "## Selecting with Textual Column Expressions"
   ]
  },
  {
   "cell_type": "code",
   "execution_count": 30,
   "id": "38cefe61",
   "metadata": {},
   "outputs": [
    {
     "name": "stdout",
     "output_type": "stream",
     "text": [
      "[('some phrase', 'patrick'), ('some phrase', 'sandy'), ('some phrase', 'spongebob')]\n"
     ]
    }
   ],
   "source": [
    "from sqlalchemy import text\n",
    "\n",
    "sel_stmt = (\n",
    "    select(\n",
    "        text(\"'some phrase'\"), Users.name\n",
    "    ).order_by(Users.name)\n",
    ")\n",
    "\n",
    "with Session(engine) as session:\n",
    "    print(session.execute(sel_stmt).all())"
   ]
  },
  {
   "cell_type": "code",
   "execution_count": null,
   "id": "2a30154a",
   "metadata": {},
   "outputs": [],
   "source": []
  }
 ],
 "metadata": {
  "kernelspec": {
   "display_name": "Python 3 (ipykernel)",
   "language": "python",
   "name": "python3"
  },
  "language_info": {
   "codemirror_mode": {
    "name": "ipython",
    "version": 3
   },
   "file_extension": ".py",
   "mimetype": "text/x-python",
   "name": "python",
   "nbconvert_exporter": "python",
   "pygments_lexer": "ipython3",
   "version": "3.8.5"
  }
 },
 "nbformat": 4,
 "nbformat_minor": 5
}
