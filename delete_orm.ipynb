{
 "cells": [
  {
   "cell_type": "markdown",
   "id": "4e2c0322",
   "metadata": {},
   "source": [
    "# Deleting ORM Object"
   ]
  },
  {
   "cell_type": "code",
   "execution_count": 1,
   "id": "75ed05af",
   "metadata": {},
   "outputs": [],
   "source": [
    "from sqlalchemy import create_engine, MetaData, Table\n",
    "from sqlalchemy.orm import declarative_base"
   ]
  },
  {
   "cell_type": "code",
   "execution_count": 2,
   "id": "2c46fb07",
   "metadata": {},
   "outputs": [],
   "source": [
    "engine = create_engine(\"sqlite+pysqlite:///example2.db\")\n",
    "Base = declarative_base(bind=engine)\n",
    "\n",
    "class Users(Base):\n",
    "    __tablename__ = \"users\"\n",
    "    __table__ = Table(\"users\", Base.metadata, autoload=engine)\n",
    "    \n",
    "    def __repr__(self):\n",
    "        return f'Users(name={self.name!r}, fullname={self.fullname!r})'\n",
    "    \n",
    "class Email(Base):\n",
    "    __tablename__ = \"email\"\n",
    "    __table__ = Table(\"email\", Base.metadata, autoload=engine)\n",
    "    \n",
    "    def __repr__(self):\n",
    "        return f'Email(email_address={self.email_address!r})'"
   ]
  },
  {
   "cell_type": "markdown",
   "id": "59789af5",
   "metadata": {},
   "source": [
    "Sebelum menghapus baris pada tabel users, terlebih dahulu akan dilakukan insert data dan kemudian data tersebut akan dihapus."
   ]
  },
  {
   "cell_type": "code",
   "execution_count": 3,
   "id": "ab704890",
   "metadata": {},
   "outputs": [],
   "source": [
    "krabs = Users(name=\"krabs\", fullname=\"krabs eugene\")"
   ]
  },
  {
   "cell_type": "code",
   "execution_count": 4,
   "id": "2a929d67",
   "metadata": {},
   "outputs": [
    {
     "data": {
      "text/plain": [
       "Users(name='krabs', fullname='krabs eugene')"
      ]
     },
     "execution_count": 4,
     "metadata": {},
     "output_type": "execute_result"
    }
   ],
   "source": [
    "krabs"
   ]
  },
  {
   "cell_type": "code",
   "execution_count": 5,
   "id": "1d412bd2",
   "metadata": {},
   "outputs": [],
   "source": [
    "from sqlalchemy.orm import Session\n",
    "session = Session(engine)"
   ]
  },
  {
   "cell_type": "code",
   "execution_count": 6,
   "id": "0363e7fe",
   "metadata": {},
   "outputs": [
    {
     "data": {
      "text/plain": [
       "<sqlalchemy.orm.session.Session at 0x7f54c80eeb50>"
      ]
     },
     "execution_count": 6,
     "metadata": {},
     "output_type": "execute_result"
    }
   ],
   "source": [
    "session"
   ]
  },
  {
   "cell_type": "code",
   "execution_count": 7,
   "id": "e9f5d525",
   "metadata": {},
   "outputs": [],
   "source": [
    "session.add(krabs)"
   ]
  },
  {
   "cell_type": "code",
   "execution_count": 8,
   "id": "f4c8ace2",
   "metadata": {},
   "outputs": [],
   "source": [
    "session.flush()"
   ]
  },
  {
   "cell_type": "code",
   "execution_count": 9,
   "id": "3261f813",
   "metadata": {},
   "outputs": [],
   "source": [
    "session.commit()"
   ]
  },
  {
   "cell_type": "code",
   "execution_count": 11,
   "id": "4178f5cf",
   "metadata": {},
   "outputs": [
    {
     "name": "stdout",
     "output_type": "stream",
     "text": [
      "(1, 'spongebob')\n",
      "(2, 'sandy')\n",
      "(3, 'patrick')\n",
      "(4, 'krabs')\n"
     ]
    }
   ],
   "source": [
    "from sqlalchemy import select\n",
    "with Session(engine) as session:\n",
    "    for row in session.execute(select(Users.id, Users.name)).all():\n",
    "        print(row)"
   ]
  },
  {
   "cell_type": "markdown",
   "id": "25ab8cac",
   "metadata": {},
   "source": [
    "Sekarang terdapat empat data atau empat baris pada tabel users. Selanjutnya data krabs akan dihapus."
   ]
  },
  {
   "cell_type": "code",
   "execution_count": 12,
   "id": "90d540d8",
   "metadata": {},
   "outputs": [
    {
     "data": {
      "text/plain": [
       "<sqlalchemy.orm.session.Session at 0x7f54a92ed250>"
      ]
     },
     "execution_count": 12,
     "metadata": {},
     "output_type": "execute_result"
    }
   ],
   "source": [
    "session"
   ]
  },
  {
   "cell_type": "code",
   "execution_count": 13,
   "id": "4e6aa341",
   "metadata": {},
   "outputs": [
    {
     "data": {
      "text/plain": [
       "Users(name='krabs', fullname='krabs eugene')"
      ]
     },
     "execution_count": 13,
     "metadata": {},
     "output_type": "execute_result"
    }
   ],
   "source": [
    "krabs = session.get(Users, 4)\n",
    "krabs"
   ]
  },
  {
   "cell_type": "code",
   "execution_count": 14,
   "id": "f658d195",
   "metadata": {},
   "outputs": [],
   "source": [
    "session.delete(krabs)"
   ]
  },
  {
   "cell_type": "code",
   "execution_count": 15,
   "id": "f2a5231b",
   "metadata": {},
   "outputs": [],
   "source": [
    "session.commit()"
   ]
  }
 ],
 "metadata": {
  "kernelspec": {
   "display_name": "Python 3 (ipykernel)",
   "language": "python",
   "name": "python3"
  },
  "language_info": {
   "codemirror_mode": {
    "name": "ipython",
    "version": 3
   },
   "file_extension": ".py",
   "mimetype": "text/x-python",
   "name": "python",
   "nbconvert_exporter": "python",
   "pygments_lexer": "ipython3",
   "version": "3.8.5"
  }
 },
 "nbformat": 4,
 "nbformat_minor": 5
}
